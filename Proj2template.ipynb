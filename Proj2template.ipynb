{
 "cells": [
  {
   "cell_type": "markdown",
   "metadata": {},
   "source": [
    "# Project 2: Least-Squares Classification"
   ]
  },
  {
   "cell_type": "markdown",
   "metadata": {},
   "source": [
    "## Step 1: Download and load the MNIST datasets\n",
    "\n",
    "Download the training and test datasets. Use the provided function to load the first 5000 images and labels of the training dataset"
   ]
  },
  {
   "cell_type": "code",
   "execution_count": 2,
   "metadata": {},
   "outputs": [],
   "source": [
    "import numpy as np # linear algebra\n",
    "import struct\n",
    "from array import array\n",
    "from os.path  import join\n",
    "\n",
    "#\n",
    "# MNIST Data Loader Class\n",
    "#\n",
    "class MnistDataloader:\n",
    "    def __init__(self, training_images_filepath,training_labels_filepath,\n",
    "                 test_images_filepath, test_labels_filepath):\n",
    "        self.training_images_filepath = training_images_filepath\n",
    "        self.training_labels_filepath = training_labels_filepath\n",
    "        self.test_images_filepath = test_images_filepath\n",
    "        self.test_labels_filepath = test_labels_filepath\n",
    "    \n",
    "    def read_images_labels(self, images_filepath, labels_filepath):        \n",
    "        labels = []\n",
    "        with open(labels_filepath, 'rb') as file:\n",
    "            magic, size = struct.unpack(\">II\", file.read(8))\n",
    "            if magic != 2049:\n",
    "                raise ValueError('Magic number mismatch, expected 2049, got {}'.format(magic))\n",
    "            labels = array(\"B\", file.read())        \n",
    "        \n",
    "        with open(images_filepath, 'rb') as file:\n",
    "            magic, size, rows, cols = struct.unpack(\">IIII\", file.read(16))\n",
    "            if magic != 2051:\n",
    "                raise ValueError('Magic number mismatch, expected 2051, got {}'.format(magic))\n",
    "            image_data = array(\"B\", file.read())        \n",
    "        images = []\n",
    "        for i in range(size):\n",
    "            images.append([0] * rows * cols)\n",
    "        for i in range(size):\n",
    "            img = np.array(image_data[i * rows * cols:(i + 1) * rows * cols])\n",
    "            img = img.reshape(28, 28)\n",
    "            images[i][:] = img            \n",
    "        \n",
    "        return images, labels\n",
    "            \n",
    "    def load_data(self):\n",
    "        x_train, y_train = self.read_images_labels(self.training_images_filepath, self.training_labels_filepath)\n",
    "        x_test, y_test = self.read_images_labels(self.test_images_filepath, self.test_labels_filepath)\n",
    "        return (x_train, y_train),(x_test, y_test)"
   ]
  },
  {
   "cell_type": "code",
   "execution_count": 5,
   "metadata": {},
   "outputs": [
    {
     "name": "stdout",
     "output_type": "stream",
     "text": [
      "5000\n"
     ]
    }
   ],
   "source": [
    "import random\n",
    "import matplotlib.pyplot as plt\n",
    "\n",
    "#\n",
    "# Set file paths based on added MNIST Datasets\n",
    "#\n",
    "input_path = './'\n",
    "training_images_filepath = join(input_path, 'train-images-idx3-ubyte')\n",
    "training_labels_filepath = join(input_path, 'train-labels-idx1-ubyte')\n",
    "test_images_filepath = join(input_path, 't10k-images-idx3-ubyte')\n",
    "test_labels_filepath = join(input_path, 't10k-labels-idx1-ubyte')\n",
    "\n",
    "#\n",
    "# Helper function to show a list of images with their relating titles\n",
    "#\n",
    "def show_images(images, title_texts):\n",
    "    cols = 5\n",
    "    rows = int(len(images)/cols) + 1\n",
    "    plt.figure(figsize=(30,20))\n",
    "    index = 1    \n",
    "    for x in zip(images, title_texts):        \n",
    "        image = x[0]        \n",
    "        title_text = x[1]\n",
    "        plt.subplot(rows, cols, index)        \n",
    "        plt.imshow(image, cmap=plt.cm.gray)\n",
    "        if (title_text != ''):\n",
    "            plt.title(title_text, fontsize = 15);        \n",
    "        index += 1\n",
    "\n",
    "# I'M PRETTY SURE THIS IS DONE\n",
    "mnist_dataloader = MnistDataloader(\n",
    "    training_images_filepath, training_labels_filepath,\n",
    "    test_images_filepath, test_labels_filepath\n",
    ")\n",
    "\n",
    "(x_train, y_train), (x_test, y_test) = mnist_dataloader.load_data()\n",
    "\n",
    "images_2_show = []\n",
    "titles_2_show = []\n",
    "for i in range(0, 10):\n",
    "    r = random.randint(1, 60000)\n",
    "    images_2_show.append(x_train[r])\n",
    "    titles_2_show.append('training image [' + str(r) + '] = ' + str(y_train[r]))    \n",
    "\n",
    "for i in range(0, 5):\n",
    "    r = random.randint(1, 10000)\n",
    "    images_2_show.append(x_test[r])        \n",
    "    titles_2_show.append('test image [' + str(r) + '] = ' + str(y_test[r]))    \n",
    "\n",
    "#show_images(images_2_show, titles_2_show)\n",
    "first_5000_images, first_5000_labels = x_train[0:5000], y_train[0:5000] \n",
    "print(len(first_5000_images))"
   ]
  },
  {
   "cell_type": "markdown",
   "metadata": {},
   "source": [
    "## Step 2: Preprocess the data\n",
    "\n",
    "Identify the row and column indices of the pixels that have nonzero intensities in at least 600 of the training images. These will be the features used for classification. "
   ]
  },
  {
   "cell_type": "code",
   "execution_count": 36,
   "metadata": {},
   "outputs": [],
   "source": [
    "# DONE - I THINK\n",
    "import numpy as np\n",
    "import matplotlib.pyplot as plt\n",
    "\n",
    "# Assuming x_train is a list of 28x28 images (each image is a list or array of shape (28, 28))\n",
    "num_imgs = len(first_5000_images)\n",
    "pixel_dimensions = (28, 28)  # Assuming MNIST size (28x28 images)\n",
    "\n",
    "nonZeroCount = np.zeros(pixel_dimensions)\n",
    "            \n",
    "for img in x_train:\n",
    "    non_zeros = (np.array(img) != 0).astype(int)\n",
    "    nonZeroCount += non_zeros\n",
    "\n",
    "# find cols and rows of entries > 600\n",
    "row_indicies, col_indices = np.where(nonZeroCount >= 600)\n",
    "\n",
    "# also option\n",
    "pixels_to_consider = np.where(nonZeroCount >= 600)\n",
    "\n"
   ]
  },
  {
   "cell_type": "markdown",
   "metadata": {},
   "source": [
    "## Step 3: Create the least-squares classifier\n",
    "\n",
    "Construct the matrix $A$ and vector $y$ as \n",
    "$$minimize \\ \\|A\\theta - y\\|_2 $$\n",
    "Solve the least-square problem to obtain the parameter vector $\\theta$. Create a plot showing the values of the entries of $\\theta$ at different pixel locations."
   ]
  },
  {
   "cell_type": "code",
   "execution_count": 28,
   "metadata": {},
   "outputs": [],
   "source": [
    "import numpy as np\n",
    "\n",
    "\n",
    "def create_feature_matrix_and_labels(x_data, y_data, pixels_to_consider, num_imgs=None):\n",
    "    N = len(x_data)\n",
    "    M = len(pixels_to_consider[0])\n",
    "\n",
    "    # Initialize A matrix\n",
    "    A = np.zeros((N, M))\n",
    "\n",
    "    # Get intensities at each of the pixels\n",
    "    x, y = pixels_to_consider\n",
    "\n",
    "    # populte A matrix\n",
    "    for i in range(N):\n",
    "        curr_img = x_train[i]\n",
    "        for j in range(M):\n",
    "            pixel_x_index = pixels_to_consider[0][j]\n",
    "            pixel_y_index = pixels_to_consider[1][j]\n",
    "            A[i, j] = curr_img[pixel_x_index][pixel_y_index]\n",
    "\n",
    "            \n",
    "\n",
    "    # Initialize y matrix\n",
    "    y = np.zeros(N)\n",
    "    for k in range(N):\n",
    "        if y_data[k] == 0:\n",
    "            y[k] = -1\n",
    "        else:\n",
    "            y[k] = 1\n",
    "\n",
    "    return A, y.T\n",
    "    "
   ]
  },
  {
   "cell_type": "markdown",
   "metadata": {},
   "source": [
    "## Step 4: Implement the least-squares classifier\n",
    "\n",
    "Load the first 5000 images of the test dataset. Using these images, compute the error rate, false positive rate, and false negative rate of your classifier."
   ]
  },
  {
   "cell_type": "code",
   "execution_count": null,
   "metadata": {},
   "outputs": [
    {
     "data": {
      "image/png": "[encoded data removed]",
      "text/plain": [
       "<Figure size 640x480 with 2 Axes>"
      ]
     },
     "metadata": {},
     "output_type": "display_data"
    }
   ],
   "source": [
    "import numpy as np\n",
    "from scipy.sparse.linalg import lsqr\n",
    "\n",
    "# Implement your code here\n",
    "A, y = create_feature_matrix_and_labels(x_train, y_train, pixels_to_consider, num_imgs=5000)\n",
    "# Solve the least squares problem\n",
    "theta = lsqr(A, y)[0]\n",
    "\n",
    "# Plot a heat map of the learned theta values\n",
    "theta_image = np.zeros((28, 28))\n",
    "theta_image[pixels_to_consider] = theta\n",
    "plt.imshow(theta_image, cmap='hot', interpolation='nearest')\n",
    "plt.colorbar()\n",
    "plt.title(\"Heat Map of Theta Values\")\n",
    "plt.show()\n",
    "\n",
    "\n"
   ]
  },
  {
   "cell_type": "code",
   "execution_count": 35,
   "metadata": {},
   "outputs": [
    {
     "name": "stdout",
     "output_type": "stream",
     "text": [
      "0.173\n"
     ]
    }
   ],
   "source": [
    "# Implement your code here to plot a heat map of the learned theta values\n",
    "A_test, y_test_vector = create_feature_matrix_and_labels(x_test, y_test, pixels_to_consider)\n",
    "predictions = np.sign(A_test @ theta)\n",
    "error_rate = np.mean(predictions != y_test_vector)\n",
    "false_positive_rate = np.mean((predictions == 1) & (y_test_vector == -1))\n",
    "false_negative_rate = np.mean((predictions == -1) & (y_test_vector == 1))\n",
    "\n",
    "print(error_rate)\n",
    "\n"
   ]
  },
  {
   "cell_type": "code",
   "execution_count": null,
   "metadata": {},
   "outputs": [
    {
     "ename": "AttributeError",
     "evalue": "'list' object has no attribute 'flatten'",
     "output_type": "error",
     "traceback": [
      "\u001b[0;31m---------------------------------------------------------------------------\u001b[0m",
      "\u001b[0;31mAttributeError\u001b[0m                            Traceback (most recent call last)",
      "Cell \u001b[0;32mIn[63], line 12\u001b[0m\n\u001b[1;32m      8\u001b[0m     false_negative_rate \u001b[38;5;241m=\u001b[39m np\u001b[38;5;241m.\u001b[39mmean((predictions \u001b[38;5;241m==\u001b[39m \u001b[38;5;241m-\u001b[39m\u001b[38;5;241m1\u001b[39m) \u001b[38;5;241m&\u001b[39m (y_test_vector \u001b[38;5;241m==\u001b[39m \u001b[38;5;241m1\u001b[39m))\n\u001b[1;32m     10\u001b[0m     \u001b[38;5;28;01mreturn\u001b[39;00m error_rate, false_positive_rate, false_negative_rate\n\u001b[0;32m---> 12\u001b[0m error_rate, false_positive_rate, false_negative_rate \u001b[38;5;241m=\u001b[39m \u001b[43mtest_theta_performance\u001b[49m\u001b[43m(\u001b[49m\u001b[43mx_test\u001b[49m\u001b[43m,\u001b[49m\u001b[43m \u001b[49m\u001b[43my_test\u001b[49m\u001b[43m,\u001b[49m\u001b[43m \u001b[49m\u001b[43mpixels_to_consider\u001b[49m\u001b[43m,\u001b[49m\u001b[43m \u001b[49m\u001b[43mtheta\u001b[49m\u001b[43m)\u001b[49m\n\u001b[1;32m     13\u001b[0m \u001b[38;5;28mprint\u001b[39m(\u001b[38;5;124mf\u001b[39m\u001b[38;5;124m\"\u001b[39m\u001b[38;5;124mPerformance of theta:\u001b[39m\u001b[38;5;130;01m\\n\u001b[39;00m\u001b[38;5;124mError rate: \u001b[39m\u001b[38;5;132;01m{\u001b[39;00merror_rate\u001b[38;5;132;01m}\u001b[39;00m\u001b[38;5;130;01m\\n\u001b[39;00m\u001b[38;5;124mFalse positive rate: \u001b[39m\u001b[38;5;132;01m{\u001b[39;00mfalse_positive_rate\u001b[38;5;132;01m}\u001b[39;00m\u001b[38;5;130;01m\\n\u001b[39;00m\u001b[38;5;124mFalse negative rate: \u001b[39m\u001b[38;5;132;01m{\u001b[39;00mfalse_negative_rate\u001b[38;5;132;01m}\u001b[39;00m\u001b[38;5;124m\"\u001b[39m)\n",
      "Cell \u001b[0;32mIn[63], line 2\u001b[0m, in \u001b[0;36mtest_theta_performance\u001b[0;34m(x_test, y_test, pixels_to_consider, theta)\u001b[0m\n\u001b[1;32m      1\u001b[0m \u001b[38;5;28;01mdef\u001b[39;00m \u001b[38;5;21mtest_theta_performance\u001b[39m(x_test, y_test, pixels_to_consider, theta):\n\u001b[0;32m----> 2\u001b[0m     A_test, y_test_vector \u001b[38;5;241m=\u001b[39m \u001b[43mcreate_feature_matrix_and_labels\u001b[49m\u001b[43m(\u001b[49m\u001b[43mx_test\u001b[49m\u001b[43m,\u001b[49m\u001b[43m \u001b[49m\u001b[43my_test\u001b[49m\u001b[43m,\u001b[49m\u001b[43m \u001b[49m\u001b[43mpixels_to_consider\u001b[49m\u001b[43m)\u001b[49m\n\u001b[1;32m      3\u001b[0m     predictions \u001b[38;5;241m=\u001b[39m np\u001b[38;5;241m.\u001b[39msign(A_test \u001b[38;5;241m@\u001b[39m theta)\n\u001b[1;32m      5\u001b[0m     \u001b[38;5;66;03m# Compute error rates\u001b[39;00m\n",
      "Cell \u001b[0;32mIn[60], line 12\u001b[0m, in \u001b[0;36mcreate_feature_matrix_and_labels\u001b[0;34m(x_data, y_data, pixels_to_consider, num_imgs)\u001b[0m\n\u001b[1;32m      9\u001b[0m y \u001b[38;5;241m=\u001b[39m np\u001b[38;5;241m.\u001b[39marray([\u001b[38;5;241m1\u001b[39m \u001b[38;5;28;01mif\u001b[39;00m label \u001b[38;5;241m==\u001b[39m \u001b[38;5;241m0\u001b[39m \u001b[38;5;28;01melse\u001b[39;00m \u001b[38;5;241m-\u001b[39m\u001b[38;5;241m1\u001b[39m \u001b[38;5;28;01mfor\u001b[39;00m label \u001b[38;5;129;01min\u001b[39;00m y_data[:num_imgs]])\n\u001b[1;32m     11\u001b[0m \u001b[38;5;28;01mfor\u001b[39;00m i \u001b[38;5;129;01min\u001b[39;00m \u001b[38;5;28mrange\u001b[39m(num_imgs):\n\u001b[0;32m---> 12\u001b[0m     A[i, :] \u001b[38;5;241m=\u001b[39m \u001b[43mx_data\u001b[49m\u001b[43m[\u001b[49m\u001b[43mi\u001b[49m\u001b[43m]\u001b[49m\u001b[38;5;241;43m.\u001b[39;49m\u001b[43mflatten\u001b[49m()[pixels_to_consider[\u001b[38;5;241m0\u001b[39m]]  \u001b[38;5;66;03m# Extract selected features\u001b[39;00m\n\u001b[1;32m     14\u001b[0m \u001b[38;5;28;01mreturn\u001b[39;00m A, y\n",
      "\u001b[0;31mAttributeError\u001b[0m: 'list' object has no attribute 'flatten'"
     ]
    }
   ],
   "source": [
    "\n",
    "\n",
    "def test_theta_performance(x_test, y_test, pixels_to_consider, theta):\n",
    "    # implement your code here to compute the error rate, false positive rate, and false negative rate\n",
    "\n",
    "    return error_rate, false_positive_rate, false_negative_rate\n",
    "\n",
    "error_rate, false_positive_rate, false_negative_rate = test_theta_performance(x_test, y_test, pixels_to_consider, theta)\n",
    "print(f\"Performance of theta:\")\n",
    "print(f\"Error rate: {error_rate}\")\n",
    "print(f\"False positive rate: {false_positive_rate}\")\n",
    "print(f\"False negative rate: {false_negative_rate}\")"
   ]
  },
  {
   "cell_type": "markdown",
   "metadata": {},
   "source": [
    "## Step 5: Redo training with partial feature list\n",
    "\n",
    "Repeat steps 1-4, except use only the first 100 images and labels of the training dataset to train the classifier. Use the same features that you identified in Step 2. How did the error rate and false positive/negative rates change?"
   ]
  },
  {
   "cell_type": "code",
   "execution_count": 18,
   "metadata": {},
   "outputs": [],
   "source": [
    "# Implement your code here\n",
    "\n",
    "error_rate, false_positive_rate, false_negative_rate = test_theta_performance(x_test, y_test, pixels_to_consider, theta_less_data)\n",
    "print(f\"Performance of theta_less_data:\")\n",
    "print(f\"Error rate: {error_rate}\")\n",
    "print(f\"False positive rate: {false_positive_rate}\")\n",
    "print(f\"False negative rate: {false_negative_rate}\")"
   ]
  },
  {
   "cell_type": "markdown",
   "metadata": {},
   "source": [
    "## Step 6: Feature Selection\n",
    "\n",
    "In what follows, we will experiment with changing the feature set. Let $M_{0}$ denote the number of features that you identified in Step 2, and let $M = 5000$. Choose a matrix $R \\in \\mathbb{R}^{M \\times M_{0}}$ whose entries are in $\\{1, -1\\}$ with equal probability. \n",
    "Letting $x_{i} \\in \\mathbb{R}^{M_{0}}$ denote the vector of features from Step 2 for the $i$-th image, the new feature vector is given by $\\max{\\{Rx_{i},0\\}}$. Train a least-squares classifier using this new set of features."
   ]
  },
  {
   "cell_type": "code",
   "execution_count": 19,
   "metadata": {},
   "outputs": [],
   "source": [
    "import numpy as np\n",
    "from scipy.sparse.linalg import lsqr\n",
    "\n",
    "def LS_classifier_artificial_features(M, R, x_train, y_train, pixels_to_consider, num_imgs):\n",
    "    # implement your code here\n",
    "    return theta\n"
   ]
  },
  {
   "cell_type": "code",
   "execution_count": 20,
   "metadata": {},
   "outputs": [],
   "source": [
    "# Implement your code to\n",
    "# Set parameters\n",
    "# Call the function to solve for theta\n",
    "theta_arti_features = LS_classifier_artificial_features(M, R, x_train, y_train, pixels_to_consider, num_imgs)\n",
    "\n",
    "# Output theta to verify\n",
    "print(f\"Solution theta shape: {theta.shape}\")\n",
    "print(f\"First few theta values: {theta[:10]}\")\n"
   ]
  },
  {
   "cell_type": "markdown",
   "metadata": {},
   "source": [
    "## Step 7: Evaluate the new classifier\n",
    "\n",
    "Compute the error rate, false positive rate, and false negative rate for the new classifier that you constructed in the previous step. Repeat the process with $M=20, 50, 1000, 5000, 10000$. "
   ]
  },
  {
   "cell_type": "code",
   "execution_count": 21,
   "metadata": {},
   "outputs": [],
   "source": [
    "import numpy as np\n",
    "\n",
    "# implement your code here to test the performance\n",
    "\n"
   ]
  }
 ],
 "metadata": {
  "kernelspec": {
   "display_name": "linAlgP2Env",
   "language": "python",
   "name": "python3"
  },
  "language_info": {
   "codemirror_mode": {
    "name": "ipython",
    "version": 3
   },
   "file_extension": ".py",
   "mimetype": "text/x-python",
   "name": "python",
   "nbconvert_exporter": "python",
   "pygments_lexer": "ipython3",
   "version": "3.13.0"
  }
 },
 "nbformat": 4,
 "nbformat_minor": 2
}
